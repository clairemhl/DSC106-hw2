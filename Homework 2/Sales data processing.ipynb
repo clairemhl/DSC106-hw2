{
 "cells": [
  {
   "cell_type": "code",
   "execution_count": 149,
   "metadata": {},
   "outputs": [],
   "source": [
    "import pandas as pd\n",
    "import numpy as np"
   ]
  },
  {
   "cell_type": "code",
   "execution_count": 150,
   "metadata": {},
   "outputs": [],
   "source": [
    "daily_sales = pd.read_csv(\"daily_sales.csv\")\n",
    "monthly_sales = pd.read_csv(\"monthly_sales.csv\")"
   ]
  },
  {
   "cell_type": "code",
   "execution_count": 151,
   "metadata": {},
   "outputs": [
    {
     "data": {
      "text/html": [
       "<div>\n",
       "<style scoped>\n",
       "    .dataframe tbody tr th:only-of-type {\n",
       "        vertical-align: middle;\n",
       "    }\n",
       "\n",
       "    .dataframe tbody tr th {\n",
       "        vertical-align: top;\n",
       "    }\n",
       "\n",
       "    .dataframe thead th {\n",
       "        text-align: right;\n",
       "    }\n",
       "</style>\n",
       "<table border=\"1\" class=\"dataframe\">\n",
       "  <thead>\n",
       "    <tr style=\"text-align: right;\">\n",
       "      <th></th>\n",
       "      <th>Month, Year</th>\n",
       "      <th>HM-NE</th>\n",
       "      <th>CF-NE</th>\n",
       "      <th>FF-NE</th>\n",
       "      <th>HM-SW</th>\n",
       "      <th>CF-SW</th>\n",
       "      <th>FF-SW</th>\n",
       "      <th>HM-NW</th>\n",
       "      <th>CF-NW</th>\n",
       "      <th>FF-NW</th>\n",
       "      <th>HM-SE</th>\n",
       "      <th>CF-SE</th>\n",
       "      <th>FF-SE</th>\n",
       "      <th>HM-C</th>\n",
       "      <th>CF-C</th>\n",
       "      <th>FF-C</th>\n",
       "    </tr>\n",
       "  </thead>\n",
       "  <tbody>\n",
       "    <tr>\n",
       "      <th>0</th>\n",
       "      <td>Jan-16</td>\n",
       "      <td>1140955</td>\n",
       "      <td>494802</td>\n",
       "      <td>285238</td>\n",
       "      <td>1124565</td>\n",
       "      <td>468568</td>\n",
       "      <td>281141</td>\n",
       "      <td>1111618</td>\n",
       "      <td>482079</td>\n",
       "      <td>277904</td>\n",
       "      <td>1095034</td>\n",
       "      <td>456264</td>\n",
       "      <td>273758</td>\n",
       "      <td>1126476</td>\n",
       "      <td>450958</td>\n",
       "      <td>281619</td>\n",
       "    </tr>\n",
       "    <tr>\n",
       "      <th>1</th>\n",
       "      <td>Feb-16</td>\n",
       "      <td>1175529</td>\n",
       "      <td>489804</td>\n",
       "      <td>293882</td>\n",
       "      <td>1200559</td>\n",
       "      <td>480616</td>\n",
       "      <td>288369</td>\n",
       "      <td>1188037</td>\n",
       "      <td>475603</td>\n",
       "      <td>297009</td>\n",
       "      <td>1167009</td>\n",
       "      <td>486254</td>\n",
       "      <td>280311</td>\n",
       "      <td>1109076</td>\n",
       "      <td>462115</td>\n",
       "      <td>288586</td>\n",
       "    </tr>\n",
       "    <tr>\n",
       "      <th>2</th>\n",
       "      <td>Mar-16</td>\n",
       "      <td>1235995</td>\n",
       "      <td>494802</td>\n",
       "      <td>296881</td>\n",
       "      <td>1220454</td>\n",
       "      <td>508522</td>\n",
       "      <td>293148</td>\n",
       "      <td>1151657</td>\n",
       "      <td>499443</td>\n",
       "      <td>287914</td>\n",
       "      <td>1133899</td>\n",
       "      <td>472458</td>\n",
       "      <td>295045</td>\n",
       "      <td>1167894</td>\n",
       "      <td>486622</td>\n",
       "      <td>280523</td>\n",
       "    </tr>\n",
       "    <tr>\n",
       "      <th>3</th>\n",
       "      <td>Apr-16</td>\n",
       "      <td>1186592</td>\n",
       "      <td>514593</td>\n",
       "      <td>296648</td>\n",
       "      <td>1213616</td>\n",
       "      <td>485843</td>\n",
       "      <td>291505</td>\n",
       "      <td>1149180</td>\n",
       "      <td>498369</td>\n",
       "      <td>299021</td>\n",
       "      <td>1133767</td>\n",
       "      <td>491684</td>\n",
       "      <td>283441</td>\n",
       "      <td>1116560</td>\n",
       "      <td>465233</td>\n",
       "      <td>290533</td>\n",
       "    </tr>\n",
       "    <tr>\n",
       "      <th>4</th>\n",
       "      <td>May-16</td>\n",
       "      <td>1272450</td>\n",
       "      <td>530187</td>\n",
       "      <td>305637</td>\n",
       "      <td>1249686</td>\n",
       "      <td>520702</td>\n",
       "      <td>312421</td>\n",
       "      <td>1187579</td>\n",
       "      <td>494824</td>\n",
       "      <td>296894</td>\n",
       "      <td>1215080</td>\n",
       "      <td>506283</td>\n",
       "      <td>291857</td>\n",
       "      <td>1155612</td>\n",
       "      <td>481505</td>\n",
       "      <td>300695</td>\n",
       "    </tr>\n",
       "  </tbody>\n",
       "</table>\n",
       "</div>"
      ],
      "text/plain": [
       "  Month, Year    HM-NE   CF-NE   FF-NE    HM-SW   CF-SW   FF-SW    HM-NW  \\\n",
       "0      Jan-16  1140955  494802  285238  1124565  468568  281141  1111618   \n",
       "1      Feb-16  1175529  489804  293882  1200559  480616  288369  1188037   \n",
       "2      Mar-16  1235995  494802  296881  1220454  508522  293148  1151657   \n",
       "3      Apr-16  1186592  514593  296648  1213616  485843  291505  1149180   \n",
       "4      May-16  1272450  530187  305637  1249686  520702  312421  1187579   \n",
       "\n",
       "    CF-NW   FF-NW    HM-SE   CF-SE   FF-SE     HM-C    CF-C    FF-C  \n",
       "0  482079  277904  1095034  456264  273758  1126476  450958  281619  \n",
       "1  475603  297009  1167009  486254  280311  1109076  462115  288586  \n",
       "2  499443  287914  1133899  472458  295045  1167894  486622  280523  \n",
       "3  498369  299021  1133767  491684  283441  1116560  465233  290533  \n",
       "4  494824  296894  1215080  506283  291857  1155612  481505  300695  "
      ]
     },
     "execution_count": 151,
     "metadata": {},
     "output_type": "execute_result"
    }
   ],
   "source": [
    "monthly_sales.head()"
   ]
  },
  {
   "cell_type": "code",
   "execution_count": 152,
   "metadata": {},
   "outputs": [
    {
     "data": {
      "text/html": [
       "<div>\n",
       "<style scoped>\n",
       "    .dataframe tbody tr th:only-of-type {\n",
       "        vertical-align: middle;\n",
       "    }\n",
       "\n",
       "    .dataframe tbody tr th {\n",
       "        vertical-align: top;\n",
       "    }\n",
       "\n",
       "    .dataframe thead th {\n",
       "        text-align: right;\n",
       "    }\n",
       "</style>\n",
       "<table border=\"1\" class=\"dataframe\">\n",
       "  <thead>\n",
       "    <tr style=\"text-align: right;\">\n",
       "      <th></th>\n",
       "      <th>HM-NE</th>\n",
       "      <th>CF-NE</th>\n",
       "      <th>FF-NE</th>\n",
       "      <th>HM-SW</th>\n",
       "      <th>CF-SW</th>\n",
       "      <th>FF-SW</th>\n",
       "      <th>HM-NW</th>\n",
       "      <th>CF-NW</th>\n",
       "      <th>FF-NW</th>\n",
       "      <th>HM-SE</th>\n",
       "      <th>CF-SE</th>\n",
       "      <th>FF-SE</th>\n",
       "      <th>HM-C</th>\n",
       "      <th>CF-C</th>\n",
       "      <th>FF-C</th>\n",
       "      <th>Year</th>\n",
       "      <th>Month</th>\n",
       "    </tr>\n",
       "  </thead>\n",
       "  <tbody>\n",
       "    <tr>\n",
       "      <th>0</th>\n",
       "      <td>1140955</td>\n",
       "      <td>494802</td>\n",
       "      <td>285238</td>\n",
       "      <td>1124565</td>\n",
       "      <td>468568</td>\n",
       "      <td>281141</td>\n",
       "      <td>1111618</td>\n",
       "      <td>482079</td>\n",
       "      <td>277904</td>\n",
       "      <td>1095034</td>\n",
       "      <td>456264</td>\n",
       "      <td>273758</td>\n",
       "      <td>1126476</td>\n",
       "      <td>450958</td>\n",
       "      <td>281619</td>\n",
       "      <td>16</td>\n",
       "      <td>1</td>\n",
       "    </tr>\n",
       "    <tr>\n",
       "      <th>1</th>\n",
       "      <td>1175529</td>\n",
       "      <td>489804</td>\n",
       "      <td>293882</td>\n",
       "      <td>1200559</td>\n",
       "      <td>480616</td>\n",
       "      <td>288369</td>\n",
       "      <td>1188037</td>\n",
       "      <td>475603</td>\n",
       "      <td>297009</td>\n",
       "      <td>1167009</td>\n",
       "      <td>486254</td>\n",
       "      <td>280311</td>\n",
       "      <td>1109076</td>\n",
       "      <td>462115</td>\n",
       "      <td>288586</td>\n",
       "      <td>16</td>\n",
       "      <td>2</td>\n",
       "    </tr>\n",
       "    <tr>\n",
       "      <th>2</th>\n",
       "      <td>1235995</td>\n",
       "      <td>494802</td>\n",
       "      <td>296881</td>\n",
       "      <td>1220454</td>\n",
       "      <td>508522</td>\n",
       "      <td>293148</td>\n",
       "      <td>1151657</td>\n",
       "      <td>499443</td>\n",
       "      <td>287914</td>\n",
       "      <td>1133899</td>\n",
       "      <td>472458</td>\n",
       "      <td>295045</td>\n",
       "      <td>1167894</td>\n",
       "      <td>486622</td>\n",
       "      <td>280523</td>\n",
       "      <td>16</td>\n",
       "      <td>3</td>\n",
       "    </tr>\n",
       "    <tr>\n",
       "      <th>3</th>\n",
       "      <td>1186592</td>\n",
       "      <td>514593</td>\n",
       "      <td>296648</td>\n",
       "      <td>1213616</td>\n",
       "      <td>485843</td>\n",
       "      <td>291505</td>\n",
       "      <td>1149180</td>\n",
       "      <td>498369</td>\n",
       "      <td>299021</td>\n",
       "      <td>1133767</td>\n",
       "      <td>491684</td>\n",
       "      <td>283441</td>\n",
       "      <td>1116560</td>\n",
       "      <td>465233</td>\n",
       "      <td>290533</td>\n",
       "      <td>16</td>\n",
       "      <td>4</td>\n",
       "    </tr>\n",
       "    <tr>\n",
       "      <th>4</th>\n",
       "      <td>1272450</td>\n",
       "      <td>530187</td>\n",
       "      <td>305637</td>\n",
       "      <td>1249686</td>\n",
       "      <td>520702</td>\n",
       "      <td>312421</td>\n",
       "      <td>1187579</td>\n",
       "      <td>494824</td>\n",
       "      <td>296894</td>\n",
       "      <td>1215080</td>\n",
       "      <td>506283</td>\n",
       "      <td>291857</td>\n",
       "      <td>1155612</td>\n",
       "      <td>481505</td>\n",
       "      <td>300695</td>\n",
       "      <td>16</td>\n",
       "      <td>5</td>\n",
       "    </tr>\n",
       "  </tbody>\n",
       "</table>\n",
       "</div>"
      ],
      "text/plain": [
       "     HM-NE   CF-NE   FF-NE    HM-SW   CF-SW   FF-SW    HM-NW   CF-NW   FF-NW  \\\n",
       "0  1140955  494802  285238  1124565  468568  281141  1111618  482079  277904   \n",
       "1  1175529  489804  293882  1200559  480616  288369  1188037  475603  297009   \n",
       "2  1235995  494802  296881  1220454  508522  293148  1151657  499443  287914   \n",
       "3  1186592  514593  296648  1213616  485843  291505  1149180  498369  299021   \n",
       "4  1272450  530187  305637  1249686  520702  312421  1187579  494824  296894   \n",
       "\n",
       "     HM-SE   CF-SE   FF-SE     HM-C    CF-C    FF-C  Year  Month  \n",
       "0  1095034  456264  273758  1126476  450958  281619    16      1  \n",
       "1  1167009  486254  280311  1109076  462115  288586    16      2  \n",
       "2  1133899  472458  295045  1167894  486622  280523    16      3  \n",
       "3  1133767  491684  283441  1116560  465233  290533    16      4  \n",
       "4  1215080  506283  291857  1155612  481505  300695    16      5  "
      ]
     },
     "execution_count": 152,
     "metadata": {},
     "output_type": "execute_result"
    }
   ],
   "source": [
    "hm_col = [d for d in monthly_sales.columns if 'HM' in d]\n",
    "monthly_sales['Year'] = pd.Series([s[-2:] for s in monthly_sales['Month, Year']]).astype(int)\n",
    "monthly_sales['Month'] = (monthly_sales.index.values)%12 +1\n",
    "df = monthly_sales.drop('Month, Year',axis =1)\n",
    "df.head()"
   ]
  },
  {
   "cell_type": "code",
   "execution_count": 153,
   "metadata": {},
   "outputs": [],
   "source": [
    "import matplotlib as plt"
   ]
  },
  {
   "cell_type": "code",
   "execution_count": 176,
   "metadata": {},
   "outputs": [],
   "source": [
    "# monthly_sales.groupby('Year')[hm_col]\n",
    "date = ['Year','Month']\n",
    "hm_data = df.loc[:,hm_col+date]\n",
    "# hm_data.groupby('Year').plot(x = 'Month', y = hm_col,title = 'Year')"
   ]
  },
  {
   "cell_type": "code",
   "execution_count": 180,
   "metadata": {},
   "outputs": [
    {
     "data": {
      "text/plain": [
       "array([1119729.6, 1168042. , 1181979.8, 1159943. , 1216081.4, 1211221.6,\n",
       "       1232674.6, 1307492.6, 1276576.8, 1268773. , 1298048.8, 1268015.2,\n",
       "       1337154.8, 1430596.4, 1363594.6, 1372741.4, 1392818.8, 1433511.6,\n",
       "       1368166. , 1499575.2, 1470585.2, 1434058.2, 1509867.2, 1541555.2,\n",
       "       1577552.6, 1598045.6, 1530862.4, 1589470.4, 1637278.6, 1525943. ,\n",
       "       1602503.4, 1612050. , 1584584.2, 1356246.8, 1477280.4, 1390901.2,\n",
       "       1513712.2, 1470051.2, 1453559.8, 1463568.2, 1524165.8, 1424835. ,\n",
       "       1391288.2, 1438132. , 1428572. ])"
      ]
     },
     "execution_count": 180,
     "metadata": {},
     "output_type": "execute_result"
    }
   ],
   "source": [
    "np.array(hm_data[hm_col].mean(axis = 1))"
   ]
  },
  {
   "cell_type": "code",
   "execution_count": 185,
   "metadata": {},
   "outputs": [
    {
     "data": {
      "text/plain": [
       "array([470534.2, 478878.4, 492369.4, 491144.4, 506700.2, 500845.2,\n",
       "       509465.4, 544738.8, 523572. , 532780.6, 549751.8, 519863.2,\n",
       "       561625.6, 582289. , 577373.8, 562772.2, 575664.8, 592417.8,\n",
       "       588853.8, 634612.4, 612692.4, 597458.2, 619249.2, 637234.4,\n",
       "       646926.2, 665746.6, 627929. , 657012.4, 687679.6, 651350.4,\n",
       "       667734.6, 693448.8, 665446. , 572404. , 610462.8, 574813.8,\n",
       "       625684.6, 612312.8, 600709. , 614631.4, 635015. , 584353.2,\n",
       "       570535.8, 599087. , 604753.4])"
      ]
     },
     "execution_count": 185,
     "metadata": {},
     "output_type": "execute_result"
    }
   ],
   "source": [
    "cf_col = [d for d in monthly_sales.columns if \"CF\" in d]\n",
    "cf_data = df.loc[:,cf_col+date]\n",
    "# cf_data.groupby('Year').plot(x = 'Month', y = cf_col,title = 'Year')\n",
    "np.array(cf_data[cf_col].mean(axis = 1))"
   ]
  },
  {
   "cell_type": "code",
   "execution_count": 158,
   "metadata": {},
   "outputs": [],
   "source": [
    "ff_col = [d for d in monthly_sales.columns if \"FF\" in d]\n",
    "ff_data = df.loc[:,ff_col+date]\n",
    "# ff_plot = ff_data.groupby('Year').plot(x = 'Month', y = ff_col,kind = 'scatter')"
   ]
  },
  {
   "cell_type": "code",
   "execution_count": 175,
   "metadata": {},
   "outputs": [
    {
     "data": {
      "text/plain": [
       "array([279932. , 289631.4, 290702.2, 292229.6, 301500.8, 302853.2,\n",
       "       310621.4, 324180. , 321815.2, 322247. , 332376.6, 311917.6,\n",
       "       339659. , 351988.4, 346453.4, 343184.8, 350913.2, 349704.8,\n",
       "       350312.6, 377707.8, 361834.8, 361375.6, 377424. , 388435.2,\n",
       "       385223.4, 405762. , 376668.6, 403892.2, 412607.8, 390810. ,\n",
       "       397443.2, 402965.2, 399423.6, 346156.2, 372163.8, 342104. ,\n",
       "       372350.2, 373325.4, 360596. , 371817.2, 378042.6, 350452.4,\n",
       "       347771.8, 353771.4, 363005.2])"
      ]
     },
     "execution_count": 175,
     "metadata": {},
     "output_type": "execute_result"
    }
   ],
   "source": [
    "ff_mean = ff_data[ff_col].mean(axis = 1)\n",
    "ff_data['agg'] = ff_mean\n",
    "np.array(ff_mean)\n",
    "# ff_plot = ff_data.groupby('Year').plot(x = 'Month', y = 'agg')"
   ]
  },
  {
   "cell_type": "code",
   "execution_count": 171,
   "metadata": {},
   "outputs": [
    {
     "data": {
      "text/plain": [
       "array([1871601, 1960649, 1939014, 1946570, 1979297, 2033895, 2015714,\n",
       "       2139988, 2124603, 2135427, 2162560, 2111721, 2248713, 2357234,\n",
       "       2299477, 2237613, 2302404, 2389953, 2302992, 2561169, 2404606,\n",
       "       2426288, 2517947, 2528700, 2629108, 2707575, 2553334, 2639394,\n",
       "       2704249, 2615408, 2637788, 2754238, 2670893, 2288925, 2416298,\n",
       "       2239571, 2557614, 2434056, 2419587, 2403681, 2553187, 2373539,\n",
       "       2323544, 2399015, 2415468], dtype=int64)"
      ]
     },
     "execution_count": 171,
     "metadata": {},
     "output_type": "execute_result"
    }
   ],
   "source": [
    "nw = [d for d in monthly_sales.columns if 'NW' in d]\n",
    "nw_data = df.loc[:,nw].apply(lambda x: x.sum(),axis = 1)\n",
    "np.array(nw_data)"
   ]
  },
  {
   "cell_type": "code",
   "execution_count": 196,
   "metadata": {},
   "outputs": [
    {
     "data": {
      "text/plain": [
       "array([ 0.04757852, -0.01103461,  0.00389683,  0.01681265,  0.02758454,\n",
       "       -0.00893901,  0.0616526 , -0.00718929,  0.0050946 ,  0.01270612,\n",
       "       -0.02350871,  0.06487221,  0.04825916, -0.02450202, -0.02690351,\n",
       "        0.02895541,  0.03802504, -0.03638607,  0.11210504, -0.06112951,\n",
       "        0.00901686,  0.03777746,  0.00427054,  0.03970736,  0.02984548,\n",
       "       -0.05696647,  0.03370495,  0.02457193, -0.03285237,  0.00855698,\n",
       "        0.04414684, -0.03026064, -0.14301134,  0.05564752, -0.07313957,\n",
       "        0.14201068, -0.04830987, -0.0059444 , -0.00657385,  0.06219877,\n",
       "       -0.07036226, -0.02106348,  0.03248099,  0.00685823])"
      ]
     },
     "execution_count": 196,
     "metadata": {},
     "output_type": "execute_result"
    }
   ],
   "source": [
    "np.array(nw_data.diff()[1:])/np.array(nw_data[:-1])"
   ]
  },
  {
   "cell_type": "code",
   "execution_count": 187,
   "metadata": {},
   "outputs": [
    {
     "data": {
      "text/plain": [
       "array([1920995, 1959215, 2027678, 1997833, 2108274, 2091980, 2140709,\n",
       "       2205580, 2153816, 2168676, 2234393, 2133837, 2301686, 2453707,\n",
       "       2339264, 2359080, 2416127, 2465093, 2390742, 2537829, 2523511,\n",
       "       2444177, 2621029, 2647775, 2640761, 2814604, 2609253, 2722007,\n",
       "       2832936, 2641786, 2742490, 2786194, 2720638, 2320956, 2560458,\n",
       "       2373509, 2593906, 2506324, 2507077, 2496457, 2645148, 2466669,\n",
       "       2406800, 2465004, 2445513], dtype=int64)"
      ]
     },
     "execution_count": 187,
     "metadata": {},
     "output_type": "execute_result"
    }
   ],
   "source": [
    "ne = [d for d in monthly_sales.columns if 'NE' in d]\n",
    "ne_data = df.loc[:,ne].apply(lambda x: x.sum(),axis = 1)\n",
    "np.array(ne_data)"
   ]
  },
  {
   "cell_type": "code",
   "execution_count": 197,
   "metadata": {},
   "outputs": [
    {
     "data": {
      "text/plain": [
       "array([ 0.01989594,  0.0349441 , -0.01471881,  0.0552804 , -0.0077286 ,\n",
       "        0.02329324,  0.03030351, -0.02346956,  0.00689938,  0.03030282,\n",
       "       -0.04500372,  0.07866065,  0.06604767, -0.04664086,  0.00847104,\n",
       "        0.02418188,  0.02026632, -0.03016154,  0.06152358, -0.00564183,\n",
       "       -0.03143794,  0.07235646,  0.01020439, -0.00264902,  0.06583065,\n",
       "       -0.07295911,  0.04321313,  0.04075265, -0.06747417,  0.03811967,\n",
       "        0.01593588, -0.02352887, -0.14690745,  0.1031911 , -0.07301389,\n",
       "        0.09285703, -0.03376452,  0.00030044, -0.00423601,  0.05956081,\n",
       "       -0.06747411, -0.02427119,  0.02418315, -0.00790709])"
      ]
     },
     "execution_count": 197,
     "metadata": {},
     "output_type": "execute_result"
    }
   ],
   "source": [
    "np.array(ne_data.diff()[1:])/np.array(ne_data[:-1])"
   ]
  },
  {
   "cell_type": "code",
   "execution_count": 188,
   "metadata": {},
   "outputs": [
    {
     "data": {
      "text/plain": [
       "array([1874274, 1969544, 2022124, 1990964, 2082809, 2023180, 2095066,\n",
       "       2250241, 2127713, 2170377, 2247531, 2143326, 2260916, 2419317,\n",
       "       2300432, 2328692, 2339363, 2414319, 2357318, 2585228, 2462909,\n",
       "       2429262, 2545089, 2592250, 2637128, 2662916, 2560765, 2676031,\n",
       "       2804042, 2599733, 2688708, 2736147, 2710087, 2288687, 2526092,\n",
       "       2352366, 2524880, 2537643, 2446863, 2540149, 2525821, 2350121,\n",
       "       2322284, 2394712, 2424378], dtype=int64)"
      ]
     },
     "execution_count": 188,
     "metadata": {},
     "output_type": "execute_result"
    }
   ],
   "source": [
    "sw = [d for d in monthly_sales.columns if 'SW' in d]\n",
    "sw_data = df.loc[:,sw].apply(lambda x: x.sum(),axis = 1)\n",
    "np.array(sw_data)"
   ]
  },
  {
   "cell_type": "code",
   "execution_count": 198,
   "metadata": {},
   "outputs": [
    {
     "data": {
      "text/plain": [
       "array([ 0.05083035,  0.02669653, -0.01540954,  0.04613092, -0.02862913,\n",
       "        0.03553119,  0.07406688, -0.05445106,  0.02005158,  0.03554866,\n",
       "       -0.04636421,  0.05486333,  0.07006054, -0.0491399 ,  0.01228465,\n",
       "        0.0045824 ,  0.0320412 , -0.02360956,  0.09668191, -0.04731459,\n",
       "       -0.01366149,  0.04767991,  0.0185302 ,  0.01731237,  0.00977882,\n",
       "       -0.03836058,  0.04501233,  0.04783614, -0.07286232,  0.03422467,\n",
       "        0.01764379, -0.00952434, -0.15549316,  0.10372978, -0.06877263,\n",
       "        0.07333638,  0.00505489, -0.03577335,  0.03812473, -0.00564061,\n",
       "       -0.06956154, -0.01184492,  0.03118826,  0.01238813])"
      ]
     },
     "execution_count": 198,
     "metadata": {},
     "output_type": "execute_result"
    }
   ],
   "source": [
    "np.array(sw_data.diff()[1:])/np.array(sw_data[:-1])"
   ]
  },
  {
   "cell_type": "code",
   "execution_count": 189,
   "metadata": {},
   "outputs": [
    {
     "data": {
      "text/plain": [
       "array([1825056, 1933574, 1901402, 1908892, 2013220, 1997693, 1977396,\n",
       "       2164116, 2131997, 2089130, 2130742, 2110360, 2216731, 2306213,\n",
       "       2283604, 2242638, 2259342, 2330922, 2275408, 2451183, 2431953,\n",
       "       2359954, 2413490, 2537451, 2577139, 2617479, 2500256, 2659690,\n",
       "       2668593, 2485609, 2630319, 2666406, 2586340, 2223673, 2376833,\n",
       "       2306116, 2491027, 2401803, 2384291, 2396331, 2475925, 2285149,\n",
       "       2240780, 2348987, 2367390], dtype=int64)"
      ]
     },
     "execution_count": 189,
     "metadata": {},
     "output_type": "execute_result"
    }
   ],
   "source": [
    "se = [d for d in monthly_sales.columns if 'SE' in d]\n",
    "se_data = df.loc[:,se].apply(lambda x: x.sum(),axis = 1)\n",
    "np.array(se_data)"
   ]
  },
  {
   "cell_type": "code",
   "execution_count": 199,
   "metadata": {},
   "outputs": [
    {
     "data": {
      "text/plain": [
       "array([ 0.05946009, -0.01663862,  0.0039392 ,  0.05465369, -0.00771252,\n",
       "       -0.01016022,  0.09442722, -0.01484163, -0.0201065 ,  0.01991834,\n",
       "       -0.00956568,  0.0504042 ,  0.04036665, -0.00980352, -0.01793919,\n",
       "        0.00744837,  0.03168179, -0.02381633,  0.07724988, -0.00784519,\n",
       "       -0.02960542,  0.02268519,  0.05136172,  0.01564089,  0.01565302,\n",
       "       -0.0447847 ,  0.06376707,  0.00334738, -0.06856947,  0.05821913,\n",
       "        0.01371963, -0.03002769, -0.14022402,  0.06887703, -0.02975262,\n",
       "        0.08018287, -0.03581816, -0.00729119,  0.00504972,  0.03321494,\n",
       "       -0.07705241, -0.01941624,  0.04828988,  0.00783444])"
      ]
     },
     "execution_count": 199,
     "metadata": {},
     "output_type": "execute_result"
    }
   ],
   "source": [
    "np.array(se_data.diff()[1:])/np.array(se_data[:-1])"
   ]
  },
  {
   "cell_type": "code",
   "execution_count": 190,
   "metadata": {},
   "outputs": [
    {
     "data": {
      "text/plain": [
       "array([3760766, 3792054, 3910264, 3862815, 3989808, 3953048, 4073519,\n",
       "       4302509, 4187012, 4193066, 4358789, 4099118, 4434534, 4644358,\n",
       "       4534279, 4482963, 4605064, 4656780, 4605283, 4976510, 4861845,\n",
       "       4719382, 4940689, 5083633, 5154119, 5241503, 4998135, 5201127,\n",
       "       5430773, 5115190, 5317999, 5397054, 5227325, 4567587, 4867205,\n",
       "       4574719, 4921904, 4846080, 4723375, 4883257, 5035924, 4681058,\n",
       "       4560349, 4752388, 4752802], dtype=int64)"
      ]
     },
     "execution_count": 190,
     "metadata": {},
     "output_type": "execute_result"
    }
   ],
   "source": [
    "c = [d for d in monthly_sales.columns if 'C' in d]\n",
    "c_data = df.loc[:,c].apply(lambda x: x.sum(),axis = 1)\n",
    "np.array(c_data)"
   ]
  },
  {
   "cell_type": "code",
   "execution_count": 200,
   "metadata": {},
   "outputs": [
    {
     "data": {
      "text/plain": [
       "array([ 8.31958170e-03,  3.11730793e-02, -1.21344748e-02,  3.28757655e-02,\n",
       "       -9.21347594e-03,  3.04754711e-02,  5.62142953e-02, -2.68441042e-02,\n",
       "        1.44589984e-03,  3.95231079e-02, -5.95741157e-02,  8.18263831e-02,\n",
       "        4.73159074e-02, -2.37016612e-02, -1.13173451e-02,  2.72366736e-02,\n",
       "        1.12302457e-02, -1.10584996e-02,  8.06089441e-02, -2.30412478e-02,\n",
       "       -2.93022505e-02,  4.68932161e-02,  2.89319971e-02,  1.38652810e-02,\n",
       "        1.69542069e-02, -4.64309569e-02,  4.06135489e-02,  4.41531230e-02,\n",
       "       -5.81101438e-02,  3.96483806e-02,  1.48655538e-02, -3.14484532e-02,\n",
       "       -1.26209486e-01,  6.55965612e-02, -6.00932157e-02,  7.58920930e-02,\n",
       "       -1.54054203e-02, -2.53204652e-02,  3.38491015e-02,  3.12633556e-02,\n",
       "       -7.04669093e-02, -2.57866918e-02,  4.21105929e-02,  8.71140993e-05])"
      ]
     },
     "execution_count": 200,
     "metadata": {},
     "output_type": "execute_result"
    }
   ],
   "source": [
    "np.array(c_data.diff()[1:])/np.array(c_data[:-1])"
   ]
  },
  {
   "cell_type": "code",
   "execution_count": 203,
   "metadata": {},
   "outputs": [
    {
     "data": {
      "text/plain": [
       "Index(['HM-NE', 'CF-NE', 'FF-NE', 'HM-SW', 'CF-SW', 'FF-SW', 'HM-NW', 'CF-NW',\n",
       "       'FF-NW', 'HM-SE', 'CF-SE', 'FF-SE', 'HM-C', 'CF-C', 'FF-C'],\n",
       "      dtype='object')"
      ]
     },
     "execution_count": 203,
     "metadata": {},
     "output_type": "execute_result"
    }
   ],
   "source": [
    "daily_sales.columns[2:]"
   ]
  },
  {
   "cell_type": "code",
   "execution_count": 220,
   "metadata": {},
   "outputs": [
    {
     "data": {
      "text/plain": [
       "array([11232,  9152,  8406,  7940,  8607, 10228,  8993, 12463,  6799,\n",
       "        7583,  9037,  8418,  9279,  7804, 11764,  9431,  7112,  9250,\n",
       "        7773,  8276,  9376, 12847,  8713,  6881,  9227,  9194,  8185,\n",
       "       10200, 12377,  7632,  7440], dtype=int64)"
      ]
     },
     "execution_count": 220,
     "metadata": {},
     "output_type": "execute_result"
    }
   ],
   "source": [
    "np.array(daily_sales['FF-C'])"
   ]
  },
  {
   "cell_type": "code",
   "execution_count": 223,
   "metadata": {},
   "outputs": [
    {
     "data": {
      "text/plain": [
       "array(['1/1/2016', '1/2/2016', '1/3/2016', '1/4/2016', '1/5/2016',\n",
       "       '1/6/2016', '1/7/2016', '1/8/2016', '1/9/2016', '1/10/2016',\n",
       "       '1/11/2016', '1/12/2016', '1/13/2016', '1/14/2016', '1/15/2016',\n",
       "       '1/16/2016', '1/17/2016', '1/18/2016', '1/19/2016', '1/20/2016',\n",
       "       '1/21/2016', '1/22/2016', '1/23/2016', '1/24/2016', '1/25/2016',\n",
       "       '1/26/2016', '1/27/2016', '1/28/2016', '1/29/2016', '1/30/2016',\n",
       "       '1/31/2016'], dtype=object)"
      ]
     },
     "execution_count": 223,
     "metadata": {},
     "output_type": "execute_result"
    }
   ],
   "source": [
    "np.array(daily_sales.Day)"
   ]
  },
  {
   "cell_type": "code",
   "execution_count": 229,
   "metadata": {},
   "outputs": [
    {
     "data": {
      "text/plain": [
       "array([15383. , 14555.8, 15431.4, 15257.8, 15012.4, 15103.2, 14987.6,\n",
       "       14417.2, 14313.6, 15446.2, 15799. , 15444.2, 15516.2, 14945.2,\n",
       "       15490.6, 15246.8, 15585.6, 14927.4, 14667.6, 14937.6, 15440.8,\n",
       "       15708. , 14762.4, 14902. , 15650.8, 15296. , 15602.4, 15350.4,\n",
       "       14900.4, 14982. , 15470.6])"
      ]
     },
     "execution_count": 229,
     "metadata": {},
     "output_type": "execute_result"
    }
   ],
   "source": [
    "np.array(daily_sales[cf_col].mean(axis = 1))"
   ]
  },
  {
   "cell_type": "code",
   "execution_count": 236,
   "metadata": {},
   "outputs": [
    {
     "data": {
      "text/plain": [
       "array(['Friday', 'Saturday', 'Sunday', 'Monday', 'Tuesday', 'Wednesday',\n",
       "       'Thursday', 'Friday', 'Saturday', 'Sunday', 'Monday', 'Tuesday',\n",
       "       'Wednesday', 'Thursday', 'Friday', 'Saturday', 'Sunday', 'Monday',\n",
       "       'Tuesday', 'Wednesday', 'Thursday', 'Friday', 'Saturday', 'Sunday',\n",
       "       'Monday', 'Tuesday', 'Wednesday', 'Thursday', 'Friday', 'Saturday',\n",
       "       'Sunday'], dtype=object)"
      ]
     },
     "execution_count": 236,
     "metadata": {},
     "output_type": "execute_result"
    }
   ],
   "source": [
    "np.array(daily_sales.iloc[:,0])"
   ]
  },
  {
   "cell_type": "code",
   "execution_count": 259,
   "metadata": {},
   "outputs": [
    {
     "data": {
      "text/plain": [
       "array([11232,  9152,  8406,  7940,  8607, 10228,  8993, 12463,  6799,\n",
       "        7583,  9037,  8418,  9279,  7804, 11764,  9431,  7112,  9250,\n",
       "        7773,  8276,  9376, 12847,  8713,  6881,  9227,  9194,  8185,\n",
       "       10200, 12377,  7632,  7440], dtype=int64)"
      ]
     },
     "execution_count": 259,
     "metadata": {},
     "output_type": "execute_result"
    }
   ],
   "source": [
    "np.array(daily_sales[ff_col].iloc[:,4])"
   ]
  },
  {
   "cell_type": "code",
   "execution_count": 254,
   "metadata": {},
   "outputs": [
    {
     "data": {
      "text/html": [
       "<div>\n",
       "<style scoped>\n",
       "    .dataframe tbody tr th:only-of-type {\n",
       "        vertical-align: middle;\n",
       "    }\n",
       "\n",
       "    .dataframe tbody tr th {\n",
       "        vertical-align: top;\n",
       "    }\n",
       "\n",
       "    .dataframe thead th {\n",
       "        text-align: right;\n",
       "    }\n",
       "</style>\n",
       "<table border=\"1\" class=\"dataframe\">\n",
       "  <thead>\n",
       "    <tr style=\"text-align: right;\">\n",
       "      <th></th>\n",
       "      <th>FF-NE</th>\n",
       "      <th>FF-SW</th>\n",
       "      <th>FF-NW</th>\n",
       "      <th>FF-SE</th>\n",
       "      <th>FF-C</th>\n",
       "    </tr>\n",
       "  </thead>\n",
       "  <tbody>\n",
       "    <tr>\n",
       "      <th>0</th>\n",
       "      <td>8446</td>\n",
       "      <td>10204</td>\n",
       "      <td>9924</td>\n",
       "      <td>11734</td>\n",
       "      <td>11232</td>\n",
       "    </tr>\n",
       "    <tr>\n",
       "      <th>1</th>\n",
       "      <td>7950</td>\n",
       "      <td>7316</td>\n",
       "      <td>9028</td>\n",
       "      <td>8005</td>\n",
       "      <td>9152</td>\n",
       "    </tr>\n",
       "    <tr>\n",
       "      <th>2</th>\n",
       "      <td>8397</td>\n",
       "      <td>8683</td>\n",
       "      <td>8105</td>\n",
       "      <td>7011</td>\n",
       "      <td>8406</td>\n",
       "    </tr>\n",
       "    <tr>\n",
       "      <th>3</th>\n",
       "      <td>9537</td>\n",
       "      <td>8429</td>\n",
       "      <td>8034</td>\n",
       "      <td>8201</td>\n",
       "      <td>7940</td>\n",
       "    </tr>\n",
       "    <tr>\n",
       "      <th>4</th>\n",
       "      <td>10123</td>\n",
       "      <td>10085</td>\n",
       "      <td>9879</td>\n",
       "      <td>8874</td>\n",
       "      <td>8607</td>\n",
       "    </tr>\n",
       "    <tr>\n",
       "      <th>5</th>\n",
       "      <td>8410</td>\n",
       "      <td>9652</td>\n",
       "      <td>9360</td>\n",
       "      <td>9674</td>\n",
       "      <td>10228</td>\n",
       "    </tr>\n",
       "    <tr>\n",
       "      <th>6</th>\n",
       "      <td>11791</td>\n",
       "      <td>8985</td>\n",
       "      <td>8834</td>\n",
       "      <td>8370</td>\n",
       "      <td>8993</td>\n",
       "    </tr>\n",
       "    <tr>\n",
       "      <th>7</th>\n",
       "      <td>8179</td>\n",
       "      <td>10985</td>\n",
       "      <td>10639</td>\n",
       "      <td>11630</td>\n",
       "      <td>12463</td>\n",
       "    </tr>\n",
       "    <tr>\n",
       "      <th>8</th>\n",
       "      <td>7193</td>\n",
       "      <td>7616</td>\n",
       "      <td>8589</td>\n",
       "      <td>6890</td>\n",
       "      <td>6799</td>\n",
       "    </tr>\n",
       "    <tr>\n",
       "      <th>9</th>\n",
       "      <td>10580</td>\n",
       "      <td>7105</td>\n",
       "      <td>7702</td>\n",
       "      <td>7520</td>\n",
       "      <td>7583</td>\n",
       "    </tr>\n",
       "    <tr>\n",
       "      <th>10</th>\n",
       "      <td>10091</td>\n",
       "      <td>9506</td>\n",
       "      <td>8566</td>\n",
       "      <td>9312</td>\n",
       "      <td>9037</td>\n",
       "    </tr>\n",
       "    <tr>\n",
       "      <th>11</th>\n",
       "      <td>9247</td>\n",
       "      <td>8424</td>\n",
       "      <td>8555</td>\n",
       "      <td>7735</td>\n",
       "      <td>8418</td>\n",
       "    </tr>\n",
       "    <tr>\n",
       "      <th>12</th>\n",
       "      <td>10250</td>\n",
       "      <td>9316</td>\n",
       "      <td>9872</td>\n",
       "      <td>8416</td>\n",
       "      <td>9279</td>\n",
       "    </tr>\n",
       "    <tr>\n",
       "      <th>13</th>\n",
       "      <td>12264</td>\n",
       "      <td>8832</td>\n",
       "      <td>8617</td>\n",
       "      <td>8826</td>\n",
       "      <td>7804</td>\n",
       "    </tr>\n",
       "    <tr>\n",
       "      <th>14</th>\n",
       "      <td>7127</td>\n",
       "      <td>10360</td>\n",
       "      <td>10503</td>\n",
       "      <td>11533</td>\n",
       "      <td>11764</td>\n",
       "    </tr>\n",
       "    <tr>\n",
       "      <th>15</th>\n",
       "      <td>7174</td>\n",
       "      <td>8140</td>\n",
       "      <td>8543</td>\n",
       "      <td>8346</td>\n",
       "      <td>9431</td>\n",
       "    </tr>\n",
       "    <tr>\n",
       "      <th>16</th>\n",
       "      <td>9313</td>\n",
       "      <td>7152</td>\n",
       "      <td>7177</td>\n",
       "      <td>7647</td>\n",
       "      <td>7112</td>\n",
       "    </tr>\n",
       "    <tr>\n",
       "      <th>17</th>\n",
       "      <td>8441</td>\n",
       "      <td>9602</td>\n",
       "      <td>9107</td>\n",
       "      <td>8793</td>\n",
       "      <td>9250</td>\n",
       "    </tr>\n",
       "    <tr>\n",
       "      <th>18</th>\n",
       "      <td>9101</td>\n",
       "      <td>8425</td>\n",
       "      <td>8765</td>\n",
       "      <td>8436</td>\n",
       "      <td>7773</td>\n",
       "    </tr>\n",
       "    <tr>\n",
       "      <th>19</th>\n",
       "      <td>8739</td>\n",
       "      <td>9944</td>\n",
       "      <td>9474</td>\n",
       "      <td>8426</td>\n",
       "      <td>8276</td>\n",
       "    </tr>\n",
       "    <tr>\n",
       "      <th>20</th>\n",
       "      <td>11108</td>\n",
       "      <td>9787</td>\n",
       "      <td>9876</td>\n",
       "      <td>8637</td>\n",
       "      <td>9376</td>\n",
       "    </tr>\n",
       "    <tr>\n",
       "      <th>21</th>\n",
       "      <td>6865</td>\n",
       "      <td>11615</td>\n",
       "      <td>10598</td>\n",
       "      <td>11709</td>\n",
       "      <td>12847</td>\n",
       "    </tr>\n",
       "    <tr>\n",
       "      <th>22</th>\n",
       "      <td>7271</td>\n",
       "      <td>9015</td>\n",
       "      <td>8058</td>\n",
       "      <td>8189</td>\n",
       "      <td>8713</td>\n",
       "    </tr>\n",
       "    <tr>\n",
       "      <th>23</th>\n",
       "      <td>9887</td>\n",
       "      <td>7722</td>\n",
       "      <td>7680</td>\n",
       "      <td>7167</td>\n",
       "      <td>6881</td>\n",
       "    </tr>\n",
       "    <tr>\n",
       "      <th>24</th>\n",
       "      <td>9068</td>\n",
       "      <td>9428</td>\n",
       "      <td>8892</td>\n",
       "      <td>8545</td>\n",
       "      <td>9227</td>\n",
       "    </tr>\n",
       "    <tr>\n",
       "      <th>25</th>\n",
       "      <td>9835</td>\n",
       "      <td>8632</td>\n",
       "      <td>7952</td>\n",
       "      <td>8565</td>\n",
       "      <td>9194</td>\n",
       "    </tr>\n",
       "    <tr>\n",
       "      <th>26</th>\n",
       "      <td>10656</td>\n",
       "      <td>9102</td>\n",
       "      <td>8609</td>\n",
       "      <td>8954</td>\n",
       "      <td>8185</td>\n",
       "    </tr>\n",
       "    <tr>\n",
       "      <th>27</th>\n",
       "      <td>12027</td>\n",
       "      <td>9959</td>\n",
       "      <td>9768</td>\n",
       "      <td>9376</td>\n",
       "      <td>10200</td>\n",
       "    </tr>\n",
       "    <tr>\n",
       "      <th>28</th>\n",
       "      <td>7554</td>\n",
       "      <td>10941</td>\n",
       "      <td>10364</td>\n",
       "      <td>12241</td>\n",
       "      <td>12377</td>\n",
       "    </tr>\n",
       "    <tr>\n",
       "      <th>29</th>\n",
       "      <td>7413</td>\n",
       "      <td>7877</td>\n",
       "      <td>8465</td>\n",
       "      <td>7727</td>\n",
       "      <td>7632</td>\n",
       "    </tr>\n",
       "    <tr>\n",
       "      <th>30</th>\n",
       "      <td>11201</td>\n",
       "      <td>8302</td>\n",
       "      <td>8369</td>\n",
       "      <td>7269</td>\n",
       "      <td>7440</td>\n",
       "    </tr>\n",
       "  </tbody>\n",
       "</table>\n",
       "</div>"
      ],
      "text/plain": [
       "    FF-NE  FF-SW  FF-NW  FF-SE   FF-C\n",
       "0    8446  10204   9924  11734  11232\n",
       "1    7950   7316   9028   8005   9152\n",
       "2    8397   8683   8105   7011   8406\n",
       "3    9537   8429   8034   8201   7940\n",
       "4   10123  10085   9879   8874   8607\n",
       "5    8410   9652   9360   9674  10228\n",
       "6   11791   8985   8834   8370   8993\n",
       "7    8179  10985  10639  11630  12463\n",
       "8    7193   7616   8589   6890   6799\n",
       "9   10580   7105   7702   7520   7583\n",
       "10  10091   9506   8566   9312   9037\n",
       "11   9247   8424   8555   7735   8418\n",
       "12  10250   9316   9872   8416   9279\n",
       "13  12264   8832   8617   8826   7804\n",
       "14   7127  10360  10503  11533  11764\n",
       "15   7174   8140   8543   8346   9431\n",
       "16   9313   7152   7177   7647   7112\n",
       "17   8441   9602   9107   8793   9250\n",
       "18   9101   8425   8765   8436   7773\n",
       "19   8739   9944   9474   8426   8276\n",
       "20  11108   9787   9876   8637   9376\n",
       "21   6865  11615  10598  11709  12847\n",
       "22   7271   9015   8058   8189   8713\n",
       "23   9887   7722   7680   7167   6881\n",
       "24   9068   9428   8892   8545   9227\n",
       "25   9835   8632   7952   8565   9194\n",
       "26  10656   9102   8609   8954   8185\n",
       "27  12027   9959   9768   9376  10200\n",
       "28   7554  10941  10364  12241  12377\n",
       "29   7413   7877   8465   7727   7632\n",
       "30  11201   8302   8369   7269   7440"
      ]
     },
     "execution_count": 254,
     "metadata": {},
     "output_type": "execute_result"
    }
   ],
   "source": [
    "daily_sales[ff_col]"
   ]
  },
  {
   "cell_type": "code",
   "execution_count": null,
   "metadata": {},
   "outputs": [],
   "source": []
  }
 ],
 "metadata": {
  "kernelspec": {
   "display_name": "Python 3",
   "language": "python",
   "name": "python3"
  },
  "language_info": {
   "codemirror_mode": {
    "name": "ipython",
    "version": 3
   },
   "file_extension": ".py",
   "mimetype": "text/x-python",
   "name": "python",
   "nbconvert_exporter": "python",
   "pygments_lexer": "ipython3",
   "version": "3.6.4"
  }
 },
 "nbformat": 4,
 "nbformat_minor": 2
}
