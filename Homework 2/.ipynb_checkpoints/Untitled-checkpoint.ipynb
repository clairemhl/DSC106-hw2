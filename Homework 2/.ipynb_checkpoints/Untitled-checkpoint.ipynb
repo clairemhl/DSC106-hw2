{
 "cells": [
  {
   "cell_type": "code",
   "execution_count": 149,
   "metadata": {},
   "outputs": [],
   "source": [
    "import pandas as pd\n",
    "import numpy as np"
   ]
  },
  {
   "cell_type": "code",
   "execution_count": 150,
   "metadata": {},
   "outputs": [],
   "source": [
    "daily_sales = pd.read_csv(\"daily_sales.csv\")\n",
    "monthly_sales = pd.read_csv(\"monthly_sales.csv\")"
   ]
  },
  {
   "cell_type": "code",
   "execution_count": 151,
   "metadata": {},
   "outputs": [
    {
     "data": {
      "text/html": [
       "<div>\n",
       "<style scoped>\n",
       "    .dataframe tbody tr th:only-of-type {\n",
       "        vertical-align: middle;\n",
       "    }\n",
       "\n",
       "    .dataframe tbody tr th {\n",
       "        vertical-align: top;\n",
       "    }\n",
       "\n",
       "    .dataframe thead th {\n",
       "        text-align: right;\n",
       "    }\n",
       "</style>\n",
       "<table border=\"1\" class=\"dataframe\">\n",
       "  <thead>\n",
       "    <tr style=\"text-align: right;\">\n",
       "      <th></th>\n",
       "      <th>Month, Year</th>\n",
       "      <th>HM-NE</th>\n",
       "      <th>CF-NE</th>\n",
       "      <th>FF-NE</th>\n",
       "      <th>HM-SW</th>\n",
       "      <th>CF-SW</th>\n",
       "      <th>FF-SW</th>\n",
       "      <th>HM-NW</th>\n",
       "      <th>CF-NW</th>\n",
       "      <th>FF-NW</th>\n",
       "      <th>HM-SE</th>\n",
       "      <th>CF-SE</th>\n",
       "      <th>FF-SE</th>\n",
       "      <th>HM-C</th>\n",
       "      <th>CF-C</th>\n",
       "      <th>FF-C</th>\n",
       "    </tr>\n",
       "  </thead>\n",
       "  <tbody>\n",
       "    <tr>\n",
       "      <th>0</th>\n",
       "      <td>Jan-16</td>\n",
       "      <td>1140955</td>\n",
       "      <td>494802</td>\n",
       "      <td>285238</td>\n",
       "      <td>1124565</td>\n",
       "      <td>468568</td>\n",
       "      <td>281141</td>\n",
       "      <td>1111618</td>\n",
       "      <td>482079</td>\n",
       "      <td>277904</td>\n",
       "      <td>1095034</td>\n",
       "      <td>456264</td>\n",
       "      <td>273758</td>\n",
       "      <td>1126476</td>\n",
       "      <td>450958</td>\n",
       "      <td>281619</td>\n",
       "    </tr>\n",
       "    <tr>\n",
       "      <th>1</th>\n",
       "      <td>Feb-16</td>\n",
       "      <td>1175529</td>\n",
       "      <td>489804</td>\n",
       "      <td>293882</td>\n",
       "      <td>1200559</td>\n",
       "      <td>480616</td>\n",
       "      <td>288369</td>\n",
       "      <td>1188037</td>\n",
       "      <td>475603</td>\n",
       "      <td>297009</td>\n",
       "      <td>1167009</td>\n",
       "      <td>486254</td>\n",
       "      <td>280311</td>\n",
       "      <td>1109076</td>\n",
       "      <td>462115</td>\n",
       "      <td>288586</td>\n",
       "    </tr>\n",
       "    <tr>\n",
       "      <th>2</th>\n",
       "      <td>Mar-16</td>\n",
       "      <td>1235995</td>\n",
       "      <td>494802</td>\n",
       "      <td>296881</td>\n",
       "      <td>1220454</td>\n",
       "      <td>508522</td>\n",
       "      <td>293148</td>\n",
       "      <td>1151657</td>\n",
       "      <td>499443</td>\n",
       "      <td>287914</td>\n",
       "      <td>1133899</td>\n",
       "      <td>472458</td>\n",
       "      <td>295045</td>\n",
       "      <td>1167894</td>\n",
       "      <td>486622</td>\n",
       "      <td>280523</td>\n",
       "    </tr>\n",
       "    <tr>\n",
       "      <th>3</th>\n",
       "      <td>Apr-16</td>\n",
       "      <td>1186592</td>\n",
       "      <td>514593</td>\n",
       "      <td>296648</td>\n",
       "      <td>1213616</td>\n",
       "      <td>485843</td>\n",
       "      <td>291505</td>\n",
       "      <td>1149180</td>\n",
       "      <td>498369</td>\n",
       "      <td>299021</td>\n",
       "      <td>1133767</td>\n",
       "      <td>491684</td>\n",
       "      <td>283441</td>\n",
       "      <td>1116560</td>\n",
       "      <td>465233</td>\n",
       "      <td>290533</td>\n",
       "    </tr>\n",
       "    <tr>\n",
       "      <th>4</th>\n",
       "      <td>May-16</td>\n",
       "      <td>1272450</td>\n",
       "      <td>530187</td>\n",
       "      <td>305637</td>\n",
       "      <td>1249686</td>\n",
       "      <td>520702</td>\n",
       "      <td>312421</td>\n",
       "      <td>1187579</td>\n",
       "      <td>494824</td>\n",
       "      <td>296894</td>\n",
       "      <td>1215080</td>\n",
       "      <td>506283</td>\n",
       "      <td>291857</td>\n",
       "      <td>1155612</td>\n",
       "      <td>481505</td>\n",
       "      <td>300695</td>\n",
       "    </tr>\n",
       "  </tbody>\n",
       "</table>\n",
       "</div>"
      ],
      "text/plain": [
       "  Month, Year    HM-NE   CF-NE   FF-NE    HM-SW   CF-SW   FF-SW    HM-NW  \\\n",
       "0      Jan-16  1140955  494802  285238  1124565  468568  281141  1111618   \n",
       "1      Feb-16  1175529  489804  293882  1200559  480616  288369  1188037   \n",
       "2      Mar-16  1235995  494802  296881  1220454  508522  293148  1151657   \n",
       "3      Apr-16  1186592  514593  296648  1213616  485843  291505  1149180   \n",
       "4      May-16  1272450  530187  305637  1249686  520702  312421  1187579   \n",
       "\n",
       "    CF-NW   FF-NW    HM-SE   CF-SE   FF-SE     HM-C    CF-C    FF-C  \n",
       "0  482079  277904  1095034  456264  273758  1126476  450958  281619  \n",
       "1  475603  297009  1167009  486254  280311  1109076  462115  288586  \n",
       "2  499443  287914  1133899  472458  295045  1167894  486622  280523  \n",
       "3  498369  299021  1133767  491684  283441  1116560  465233  290533  \n",
       "4  494824  296894  1215080  506283  291857  1155612  481505  300695  "
      ]
     },
     "execution_count": 151,
     "metadata": {},
     "output_type": "execute_result"
    }
   ],
   "source": [
    "monthly_sales.head()"
   ]
  },
  {
   "cell_type": "code",
   "execution_count": 152,
   "metadata": {},
   "outputs": [
    {
     "data": {
      "text/html": [
       "<div>\n",
       "<style scoped>\n",
       "    .dataframe tbody tr th:only-of-type {\n",
       "        vertical-align: middle;\n",
       "    }\n",
       "\n",
       "    .dataframe tbody tr th {\n",
       "        vertical-align: top;\n",
       "    }\n",
       "\n",
       "    .dataframe thead th {\n",
       "        text-align: right;\n",
       "    }\n",
       "</style>\n",
       "<table border=\"1\" class=\"dataframe\">\n",
       "  <thead>\n",
       "    <tr style=\"text-align: right;\">\n",
       "      <th></th>\n",
       "      <th>HM-NE</th>\n",
       "      <th>CF-NE</th>\n",
       "      <th>FF-NE</th>\n",
       "      <th>HM-SW</th>\n",
       "      <th>CF-SW</th>\n",
       "      <th>FF-SW</th>\n",
       "      <th>HM-NW</th>\n",
       "      <th>CF-NW</th>\n",
       "      <th>FF-NW</th>\n",
       "      <th>HM-SE</th>\n",
       "      <th>CF-SE</th>\n",
       "      <th>FF-SE</th>\n",
       "      <th>HM-C</th>\n",
       "      <th>CF-C</th>\n",
       "      <th>FF-C</th>\n",
       "      <th>Year</th>\n",
       "      <th>Month</th>\n",
       "    </tr>\n",
       "  </thead>\n",
       "  <tbody>\n",
       "    <tr>\n",
       "      <th>0</th>\n",
       "      <td>1140955</td>\n",
       "      <td>494802</td>\n",
       "      <td>285238</td>\n",
       "      <td>1124565</td>\n",
       "      <td>468568</td>\n",
       "      <td>281141</td>\n",
       "      <td>1111618</td>\n",
       "      <td>482079</td>\n",
       "      <td>277904</td>\n",
       "      <td>1095034</td>\n",
       "      <td>456264</td>\n",
       "      <td>273758</td>\n",
       "      <td>1126476</td>\n",
       "      <td>450958</td>\n",
       "      <td>281619</td>\n",
       "      <td>16</td>\n",
       "      <td>1</td>\n",
       "    </tr>\n",
       "    <tr>\n",
       "      <th>1</th>\n",
       "      <td>1175529</td>\n",
       "      <td>489804</td>\n",
       "      <td>293882</td>\n",
       "      <td>1200559</td>\n",
       "      <td>480616</td>\n",
       "      <td>288369</td>\n",
       "      <td>1188037</td>\n",
       "      <td>475603</td>\n",
       "      <td>297009</td>\n",
       "      <td>1167009</td>\n",
       "      <td>486254</td>\n",
       "      <td>280311</td>\n",
       "      <td>1109076</td>\n",
       "      <td>462115</td>\n",
       "      <td>288586</td>\n",
       "      <td>16</td>\n",
       "      <td>2</td>\n",
       "    </tr>\n",
       "    <tr>\n",
       "      <th>2</th>\n",
       "      <td>1235995</td>\n",
       "      <td>494802</td>\n",
       "      <td>296881</td>\n",
       "      <td>1220454</td>\n",
       "      <td>508522</td>\n",
       "      <td>293148</td>\n",
       "      <td>1151657</td>\n",
       "      <td>499443</td>\n",
       "      <td>287914</td>\n",
       "      <td>1133899</td>\n",
       "      <td>472458</td>\n",
       "      <td>295045</td>\n",
       "      <td>1167894</td>\n",
       "      <td>486622</td>\n",
       "      <td>280523</td>\n",
       "      <td>16</td>\n",
       "      <td>3</td>\n",
       "    </tr>\n",
       "    <tr>\n",
       "      <th>3</th>\n",
       "      <td>1186592</td>\n",
       "      <td>514593</td>\n",
       "      <td>296648</td>\n",
       "      <td>1213616</td>\n",
       "      <td>485843</td>\n",
       "      <td>291505</td>\n",
       "      <td>1149180</td>\n",
       "      <td>498369</td>\n",
       "      <td>299021</td>\n",
       "      <td>1133767</td>\n",
       "      <td>491684</td>\n",
       "      <td>283441</td>\n",
       "      <td>1116560</td>\n",
       "      <td>465233</td>\n",
       "      <td>290533</td>\n",
       "      <td>16</td>\n",
       "      <td>4</td>\n",
       "    </tr>\n",
       "    <tr>\n",
       "      <th>4</th>\n",
       "      <td>1272450</td>\n",
       "      <td>530187</td>\n",
       "      <td>305637</td>\n",
       "      <td>1249686</td>\n",
       "      <td>520702</td>\n",
       "      <td>312421</td>\n",
       "      <td>1187579</td>\n",
       "      <td>494824</td>\n",
       "      <td>296894</td>\n",
       "      <td>1215080</td>\n",
       "      <td>506283</td>\n",
       "      <td>291857</td>\n",
       "      <td>1155612</td>\n",
       "      <td>481505</td>\n",
       "      <td>300695</td>\n",
       "      <td>16</td>\n",
       "      <td>5</td>\n",
       "    </tr>\n",
       "  </tbody>\n",
       "</table>\n",
       "</div>"
      ],
      "text/plain": [
       "     HM-NE   CF-NE   FF-NE    HM-SW   CF-SW   FF-SW    HM-NW   CF-NW   FF-NW  \\\n",
       "0  1140955  494802  285238  1124565  468568  281141  1111618  482079  277904   \n",
       "1  1175529  489804  293882  1200559  480616  288369  1188037  475603  297009   \n",
       "2  1235995  494802  296881  1220454  508522  293148  1151657  499443  287914   \n",
       "3  1186592  514593  296648  1213616  485843  291505  1149180  498369  299021   \n",
       "4  1272450  530187  305637  1249686  520702  312421  1187579  494824  296894   \n",
       "\n",
       "     HM-SE   CF-SE   FF-SE     HM-C    CF-C    FF-C  Year  Month  \n",
       "0  1095034  456264  273758  1126476  450958  281619    16      1  \n",
       "1  1167009  486254  280311  1109076  462115  288586    16      2  \n",
       "2  1133899  472458  295045  1167894  486622  280523    16      3  \n",
       "3  1133767  491684  283441  1116560  465233  290533    16      4  \n",
       "4  1215080  506283  291857  1155612  481505  300695    16      5  "
      ]
     },
     "execution_count": 152,
     "metadata": {},
     "output_type": "execute_result"
    }
   ],
   "source": [
    "hm_col = [d for d in monthly_sales.columns if 'HM' in d]\n",
    "monthly_sales['Year'] = pd.Series([s[-2:] for s in monthly_sales['Month, Year']]).astype(int)\n",
    "monthly_sales['Month'] = (monthly_sales.index.values)%12 +1\n",
    "df = monthly_sales.drop('Month, Year',axis =1)\n",
    "df.head()"
   ]
  },
  {
   "cell_type": "code",
   "execution_count": 153,
   "metadata": {},
   "outputs": [],
   "source": [
    "import matplotlib as plt"
   ]
  },
  {
   "cell_type": "code",
   "execution_count": 176,
   "metadata": {},
   "outputs": [],
   "source": [
    "# monthly_sales.groupby('Year')[hm_col]\n",
    "date = ['Year','Month']\n",
    "hm_data = df.loc[:,hm_col+date]\n",
    "# hm_data.groupby('Year').plot(x = 'Month', y = hm_col,title = 'Year')"
   ]
  },
  {
   "cell_type": "code",
   "execution_count": 180,
   "metadata": {},
   "outputs": [
    {
     "data": {
      "text/plain": [
       "array([1119729.6, 1168042. , 1181979.8, 1159943. , 1216081.4, 1211221.6,\n",
       "       1232674.6, 1307492.6, 1276576.8, 1268773. , 1298048.8, 1268015.2,\n",
       "       1337154.8, 1430596.4, 1363594.6, 1372741.4, 1392818.8, 1433511.6,\n",
       "       1368166. , 1499575.2, 1470585.2, 1434058.2, 1509867.2, 1541555.2,\n",
       "       1577552.6, 1598045.6, 1530862.4, 1589470.4, 1637278.6, 1525943. ,\n",
       "       1602503.4, 1612050. , 1584584.2, 1356246.8, 1477280.4, 1390901.2,\n",
       "       1513712.2, 1470051.2, 1453559.8, 1463568.2, 1524165.8, 1424835. ,\n",
       "       1391288.2, 1438132. , 1428572. ])"
      ]
     },
     "execution_count": 180,
     "metadata": {},
     "output_type": "execute_result"
    }
   ],
   "source": [
    "np.array(hm_data[hm_col].mean(axis = 1))"
   ]
  },
  {
   "cell_type": "code",
   "execution_count": 185,
   "metadata": {},
   "outputs": [
    {
     "data": {
      "text/plain": [
       "array([470534.2, 478878.4, 492369.4, 491144.4, 506700.2, 500845.2,\n",
       "       509465.4, 544738.8, 523572. , 532780.6, 549751.8, 519863.2,\n",
       "       561625.6, 582289. , 577373.8, 562772.2, 575664.8, 592417.8,\n",
       "       588853.8, 634612.4, 612692.4, 597458.2, 619249.2, 637234.4,\n",
       "       646926.2, 665746.6, 627929. , 657012.4, 687679.6, 651350.4,\n",
       "       667734.6, 693448.8, 665446. , 572404. , 610462.8, 574813.8,\n",
       "       625684.6, 612312.8, 600709. , 614631.4, 635015. , 584353.2,\n",
       "       570535.8, 599087. , 604753.4])"
      ]
     },
     "execution_count": 185,
     "metadata": {},
     "output_type": "execute_result"
    }
   ],
   "source": [
    "cf_col = [d for d in monthly_sales.columns if \"CF\" in d]\n",
    "cf_data = df.loc[:,cf_col+date]\n",
    "# cf_data.groupby('Year').plot(x = 'Month', y = cf_col,title = 'Year')\n",
    "np.array(cf_data[cf_col].mean(axis = 1))"
   ]
  },
  {
   "cell_type": "code",
   "execution_count": 158,
   "metadata": {},
   "outputs": [],
   "source": [
    "ff_col = [d for d in monthly_sales.columns if \"FF\" in d]\n",
    "ff_data = df.loc[:,ff_col+date]\n",
    "# ff_plot = ff_data.groupby('Year').plot(x = 'Month', y = ff_col,kind = 'scatter')"
   ]
  },
  {
   "cell_type": "code",
   "execution_count": 175,
   "metadata": {},
   "outputs": [
    {
     "data": {
      "text/plain": [
       "array([279932. , 289631.4, 290702.2, 292229.6, 301500.8, 302853.2,\n",
       "       310621.4, 324180. , 321815.2, 322247. , 332376.6, 311917.6,\n",
       "       339659. , 351988.4, 346453.4, 343184.8, 350913.2, 349704.8,\n",
       "       350312.6, 377707.8, 361834.8, 361375.6, 377424. , 388435.2,\n",
       "       385223.4, 405762. , 376668.6, 403892.2, 412607.8, 390810. ,\n",
       "       397443.2, 402965.2, 399423.6, 346156.2, 372163.8, 342104. ,\n",
       "       372350.2, 373325.4, 360596. , 371817.2, 378042.6, 350452.4,\n",
       "       347771.8, 353771.4, 363005.2])"
      ]
     },
     "execution_count": 175,
     "metadata": {},
     "output_type": "execute_result"
    }
   ],
   "source": [
    "ff_mean = ff_data[ff_col].mean(axis = 1)\n",
    "ff_data['agg'] = ff_mean\n",
    "np.array(ff_mean)\n",
    "# ff_plot = ff_data.groupby('Year').plot(x = 'Month', y = 'agg')"
   ]
  },
  {
   "cell_type": "code",
   "execution_count": 171,
   "metadata": {},
   "outputs": [
    {
     "data": {
      "text/plain": [
       "array([1871601, 1960649, 1939014, 1946570, 1979297, 2033895, 2015714,\n",
       "       2139988, 2124603, 2135427, 2162560, 2111721, 2248713, 2357234,\n",
       "       2299477, 2237613, 2302404, 2389953, 2302992, 2561169, 2404606,\n",
       "       2426288, 2517947, 2528700, 2629108, 2707575, 2553334, 2639394,\n",
       "       2704249, 2615408, 2637788, 2754238, 2670893, 2288925, 2416298,\n",
       "       2239571, 2557614, 2434056, 2419587, 2403681, 2553187, 2373539,\n",
       "       2323544, 2399015, 2415468], dtype=int64)"
      ]
     },
     "execution_count": 171,
     "metadata": {},
     "output_type": "execute_result"
    }
   ],
   "source": [
    "nw = [d for d in monthly_sales.columns if 'NW' in d]\n",
    "nw_data = df.loc[:,nw].apply(lambda x: x.sum(),axis = 1)\n",
    "np.array(nw_data)"
   ]
  },
  {
   "cell_type": "code",
   "execution_count": 187,
   "metadata": {},
   "outputs": [
    {
     "data": {
      "text/plain": [
       "array([1920995, 1959215, 2027678, 1997833, 2108274, 2091980, 2140709,\n",
       "       2205580, 2153816, 2168676, 2234393, 2133837, 2301686, 2453707,\n",
       "       2339264, 2359080, 2416127, 2465093, 2390742, 2537829, 2523511,\n",
       "       2444177, 2621029, 2647775, 2640761, 2814604, 2609253, 2722007,\n",
       "       2832936, 2641786, 2742490, 2786194, 2720638, 2320956, 2560458,\n",
       "       2373509, 2593906, 2506324, 2507077, 2496457, 2645148, 2466669,\n",
       "       2406800, 2465004, 2445513], dtype=int64)"
      ]
     },
     "execution_count": 187,
     "metadata": {},
     "output_type": "execute_result"
    }
   ],
   "source": [
    "ne = [d for d in monthly_sales.columns if 'NE' in d]\n",
    "ne_data = df.loc[:,ne].apply(lambda x: x.sum(),axis = 1)\n",
    "np.array(ne_data)"
   ]
  },
  {
   "cell_type": "code",
   "execution_count": 188,
   "metadata": {},
   "outputs": [
    {
     "data": {
      "text/plain": [
       "array([1874274, 1969544, 2022124, 1990964, 2082809, 2023180, 2095066,\n",
       "       2250241, 2127713, 2170377, 2247531, 2143326, 2260916, 2419317,\n",
       "       2300432, 2328692, 2339363, 2414319, 2357318, 2585228, 2462909,\n",
       "       2429262, 2545089, 2592250, 2637128, 2662916, 2560765, 2676031,\n",
       "       2804042, 2599733, 2688708, 2736147, 2710087, 2288687, 2526092,\n",
       "       2352366, 2524880, 2537643, 2446863, 2540149, 2525821, 2350121,\n",
       "       2322284, 2394712, 2424378], dtype=int64)"
      ]
     },
     "execution_count": 188,
     "metadata": {},
     "output_type": "execute_result"
    }
   ],
   "source": [
    "sw = [d for d in monthly_sales.columns if 'SW' in d]\n",
    "sw_data = df.loc[:,sw].apply(lambda x: x.sum(),axis = 1)\n",
    "np.array(sw_data)"
   ]
  },
  {
   "cell_type": "code",
   "execution_count": 189,
   "metadata": {},
   "outputs": [
    {
     "data": {
      "text/plain": [
       "array([1825056, 1933574, 1901402, 1908892, 2013220, 1997693, 1977396,\n",
       "       2164116, 2131997, 2089130, 2130742, 2110360, 2216731, 2306213,\n",
       "       2283604, 2242638, 2259342, 2330922, 2275408, 2451183, 2431953,\n",
       "       2359954, 2413490, 2537451, 2577139, 2617479, 2500256, 2659690,\n",
       "       2668593, 2485609, 2630319, 2666406, 2586340, 2223673, 2376833,\n",
       "       2306116, 2491027, 2401803, 2384291, 2396331, 2475925, 2285149,\n",
       "       2240780, 2348987, 2367390], dtype=int64)"
      ]
     },
     "execution_count": 189,
     "metadata": {},
     "output_type": "execute_result"
    }
   ],
   "source": [
    "se = [d for d in monthly_sales.columns if 'SE' in d]\n",
    "se_data = df.loc[:,se].apply(lambda x: x.sum(),axis = 1)\n",
    "np.array(se_data)"
   ]
  },
  {
   "cell_type": "code",
   "execution_count": null,
   "metadata": {},
   "outputs": [],
   "source": [
    "c = [d for d in monthly_sales.columns if 'C' in d]\n",
    "c_data = df.loc[:,c].apply(lambda x: x.sum(),axis = 1)\n",
    "np.array(c_data)"
   ]
  },
  {
   "cell_type": "code",
   "execution_count": null,
   "metadata": {},
   "outputs": [],
   "source": []
  },
  {
   "cell_type": "code",
   "execution_count": null,
   "metadata": {},
   "outputs": [],
   "source": []
  }
 ],
 "metadata": {
  "kernelspec": {
   "display_name": "Python 3",
   "language": "python",
   "name": "python3"
  },
  "language_info": {
   "codemirror_mode": {
    "name": "ipython",
    "version": 3
   },
   "file_extension": ".py",
   "mimetype": "text/x-python",
   "name": "python",
   "nbconvert_exporter": "python",
   "pygments_lexer": "ipython3",
   "version": "3.6.4"
  }
 },
 "nbformat": 4,
 "nbformat_minor": 2
}
